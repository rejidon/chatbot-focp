{
 "cells": [
  {
   "cell_type": "code",
   "execution_count": 2,
   "id": "062ae75a-3047-4407-85b6-ebf5949a512a",
   "metadata": {},
   "outputs": [
    {
     "name": "stdout",
     "output_type": "stream",
     "text": [
      "True\n",
      "False\n"
     ]
    }
   ],
   "source": [
    "#question no 1\n",
    "def var_input(n):\n",
    "    \n",
    "    return 0 <= n <= 100\n",
    "\n",
    "print(var_input(50)) \n",
    "print(var_input(150))  "
   ]
  },
  {
   "cell_type": "code",
   "execution_count": 4,
   "id": "e5403090-426c-49ce-8743-6337bef00d2d",
   "metadata": {},
   "outputs": [
    {
     "name": "stdout",
     "output_type": "stream",
     "text": [
      "Uppercase: 2, Lowercase: 8\n"
     ]
    }
   ],
   "source": [
    "#question no 2\n",
    "def count_case(s):\n",
    "    upper = sum(1 for c in s if c.isupper())\n",
    "    lower = sum(1 for c in s if c.islower())\n",
    "    return upper, lower\n",
    "\n",
    "upper_count, lower_count = count_case(\"Hello World!\")\n",
    "print(f\"Uppercase: {upper_count}, Lowercase: {lower_count}\") "
   ]
  },
  {
   "cell_type": "code",
   "execution_count": 5,
   "id": "5ea50e14-15b3-4b2b-b8c7-1ca065e2f100",
   "metadata": {},
   "outputs": [
    {
     "name": "stdout",
     "output_type": "stream",
     "text": [
      "Arthur\n",
      "Arthur\n",
      "Arthur\n"
     ]
    }
   ],
   "source": [
    "#question no 3\n",
    "def format_name(name):\n",
    "    return name.capitalize()\n",
    "\n",
    "# Test for the function\n",
    "print(format_name(\"arthur\"))  # Expected: Arthur\n",
    "print(format_name(\"ARTHUR\"))  # Expected: Arthur\n",
    "print(format_name(\"arTHur\"))  # Expected: Arthur\n"
   ]
  },
  {
   "cell_type": "code",
   "execution_count": 6,
   "id": "64b7612c-0a15-42fb-aa7f-ad5e52ae6340",
   "metadata": {},
   "outputs": [
    {
     "name": "stdout",
     "output_type": "stream",
     "text": [
      "Hello, World\n"
     ]
    }
   ],
   "source": [
    "#question no 4\n",
    "def remove_last_char(s):\n",
    "    if len(s) > 1:\n",
    "        return s[:-1]\n",
    "    else:\n",
    "        return s\n",
    "\n",
    "s = \"Hello, World!\"\n",
    "print(remove_last_char(s)) "
   ]
  },
  {
   "cell_type": "code",
   "execution_count": 9,
   "id": "d1ab18fb-a777-46a3-93b2-f7601e1a0c15",
   "metadata": {},
   "outputs": [
    {
     "name": "stdout",
     "output_type": "stream",
     "text": [
      "30°C is equal to 86.0°F\n",
      "86°F is equal to 30.0°C\n"
     ]
    }
   ],
   "source": [
    "#question no 5\n",
    "def celsius_to_fahrenheit(c):\n",
    "    \n",
    "    return (c * 9/5) + 32\n",
    "\n",
    "def fahrenheit_to_celsius(f):\n",
    "    \n",
    "    return (f - 32) * 5/9\n",
    "\n",
    "c = 30\n",
    "f = celsius_to_fahrenheit(c)\n",
    "print(f\"{c}°C is equal to {f}°F\")\n",
    "\n",
    "f = 86\n",
    "c = fahrenheit_to_celsius(f)\n",
    "print(f\"{f}°F is equal to {c}°C\")"
   ]
  },
  {
   "cell_type": "code",
   "execution_count": null,
   "id": "cd458fd5-f343-4923-a4c2-aa577cb4e3a0",
   "metadata": {},
   "outputs": [],
   "source": [
    "#question no 6\n",
    "def display_equivalent_temperature():\n",
    "    temp = input(\"Enter a temperature (e.g., 30C): \")\n",
    "    c = float(temp[:-1])\n",
    "    f = centigrade_to_fahrenheit(c)\n",
    "    print(f\"{temp} is equal to {f}F\")\n",
    "\n",
    "display_equivalent_temperature()"
   ]
  },
  {
   "cell_type": "code",
   "execution_count": 21,
   "id": "5b68489e-9ba0-42c9-92b4-4e8444bc02c2",
   "metadata": {},
   "outputs": [],
   "source": [
    "#question no 7\n",
    "def process_temperatures():\n",
    "    temps = []\n",
    "    for _ in range(6):\n",
    "        temp_input = input(\"Enter temperature (e.g., 25C): \")\n",
    "        if temp_input[-1].upper() == 'C':\n",
    "            temps.append(float(temp_input[:-1]))\n",
    "    \n",
    "    if temps:\n",
    "        print(f\"Max: {max(temps)}C, Min: {min(temps)}C, Mean: {sum(temps)/len(temps):.2f}C\")"
   ]
  },
  {
   "cell_type": "code",
   "execution_count": 23,
   "id": "5839ec43-2d5d-4195-8c8c-a03d4987c3f3",
   "metadata": {},
   "outputs": [],
   "source": [
    "#question no 8\n",
    "def process_any_temperatures():\n",
    "    temps = []\n",
    "    while True:\n",
    "        temp_input = input(\"Enter temperature (e.g., 25C) or press Enter to finish: \")\n",
    "        if temp_input == \"\":\n",
    "            break\n",
    "        if temp_input[-1].upper() == 'C':\n",
    "            temps.append(float(temp_input[:-1]))\n",
    "\n",
    "    if temps:\n",
    "        print(f\"Max: {max(temps)}C, Min: {min(temps)}C, Mean: {sum(temps)/len(temps):.2f}C\")\n",
    "    else:\n",
    "        print(\"No temperatures entered.\")"
   ]
  },
  {
   "cell_type": "code",
   "execution_count": null,
   "id": "86d3a600-7329-489a-8f80-8aefe6b2877b",
   "metadata": {},
   "outputs": [],
   "source": []
  }
 ],
 "metadata": {
  "kernelspec": {
   "display_name": "Python 3 (ipykernel)",
   "language": "python",
   "name": "python3"
  },
  "language_info": {
   "codemirror_mode": {
    "name": "ipython",
    "version": 3
   },
   "file_extension": ".py",
   "mimetype": "text/x-python",
   "name": "python",
   "nbconvert_exporter": "python",
   "pygments_lexer": "ipython3",
   "version": "3.12.3"
  }
 },
 "nbformat": 4,
 "nbformat_minor": 5
}
