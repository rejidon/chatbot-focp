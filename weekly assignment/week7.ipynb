{
 "cells": [
  {
   "cell_type": "code",
   "execution_count": 5,
   "id": "b8083796-7438-47de-bf78-8bb5d0c5d872",
   "metadata": {},
   "outputs": [
    {
     "name": "stdout",
     "output_type": "stream",
     "text": [
      "['c', 'e', 'h', 's']\n"
     ]
    }
   ],
   "source": [
    "# question no 1\n",
    "def nums(s):\n",
    "   \n",
    "  return sorted(set(s.lower()))\n",
    "print(nums(\"cheese\"))  "
   ]
  },
  {
   "cell_type": "code",
   "execution_count": 7,
   "id": "466d65d7-0f70-4e9b-93d5-fd3df51484c7",
   "metadata": {},
   "outputs": [
    {
     "name": "stdout",
     "output_type": "stream",
     "text": [
      "['a', 'b', 'c', 'd', 'e', 'h', 'r', 's']\n",
      "['e']\n",
      "['a', 'b', 'c', 'd', 'h', 'r', 's']\n"
     ]
    }
   ],
   "source": [
    "# question no 2\n",
    "def letters_inat_least_one(word1, word2):\n",
    "    return sorted(set(word1) | set(word2))\n",
    "\n",
    "def letters_in_both(word1, word2):\n",
    "    return sorted(set(word1) & set(word2))\n",
    "\n",
    "def letters_in_either_butnot_both(word1, word2):\n",
    "    return sorted(set(word1) ^ set(word2))\n",
    "\n",
    "# Test for the functions\n",
    "print(letters_inat_least_one(\"cheese\", \"bread\"))  \n",
    "print(letters_in_both(\"cheese\", \"bread\"))       \n",
    "print(letters_in_either_butnot_both(\"cheese\", \"bread\"))  \n"
   ]
  },
  {
   "cell_type": "code",
   "execution_count": 12,
   "id": "37cf3436-5fd7-4f78-bb5e-087cf439cb86",
   "metadata": {},
   "outputs": [
    {
     "name": "stdin",
     "output_type": "stream",
     "text": [
      "\n",
      "Enter a country name (or 'quit' to exit):  nepal\n",
      "I don't know the capital of Nepal. Please enter it:  kathmandu\n"
     ]
    },
    {
     "name": "stdout",
     "output_type": "stream",
     "text": [
      "Thanks! I've learned that the capital of Nepal is Kathmandu\n"
     ]
    },
    {
     "name": "stdin",
     "output_type": "stream",
     "text": [
      "\n",
      "Enter a country name (or 'quit' to exit):  quit\n"
     ]
    }
   ],
   "source": [
    "# question no 3\n",
    "def manage_capitals():\n",
    "    capitals = {} \n",
    "    \n",
    "    while True:\n",
    "        country = input(\"\\nEnter a country name (or 'quit' to exit): \").lower().strip()\n",
    "        \n",
    "        if country == 'quit':\n",
    "            break\n",
    "            \n",
    "        if country in capitals:\n",
    "            print(f\"The capital of {country.title()} is {capitals[country].title()}\")\n",
    "        else:\n",
    "            capital = input(f\"I don't know the capital of {country.title()}. Please enter it: \").lower().strip()\n",
    "            capitals[country] = capital\n",
    "            print(f\"Thanks! I've learned that the capital of {country.title()} is {capital.title()}\")\n",
    "manage_capitals()"
   ]
  },
  {
   "cell_type": "code",
   "execution_count": 22,
   "id": "75244d18-f7e2-451e-9977-d0717153381a",
   "metadata": {},
   "outputs": [
    {
     "name": "stdout",
     "output_type": "stream",
     "text": [
      "Most common letters:\n",
      "h: 3\n",
      "k: 3\n",
      "j: 3\n",
      "i: 2\n",
      "f: 2\n",
      "r: 1\n"
     ]
    }
   ],
   "source": [
    "# question no 4 \n",
    "def most_commonletters(message):\n",
    "   \n",
    "    letter_counts = {}\n",
    "    for letter in message.lower():\n",
    "        if letter.isalpha():\n",
    "            letter_counts[letter] = letter_counts.get(letter, 0) + 1\n",
    "\n",
    "    return sorted(letter_counts.items(), key=lambda x: x[1], reverse=True)[:6]\n",
    "\n",
    "\n",
    "def print_most_commonletters(message):\n",
    "    common_letters = most_common_letters(message)\n",
    "    print(\"Most common letters:\")\n",
    "    for letter, count in common_letters:\n",
    "        print(f\"{letter}: {count}\")\n",
    "\n",
    "message = \"hihrkjhfkjsfkji\"\n",
    "print_most_commonletters(message)"
   ]
  },
  {
   "cell_type": "code",
   "execution_count": null,
   "id": "7241b616-0547-4b67-aca3-e123c0ce4b5b",
   "metadata": {},
   "outputs": [],
   "source": []
  }
 ],
 "metadata": {
  "kernelspec": {
   "display_name": "Python 3 (ipykernel)",
   "language": "python",
   "name": "python3"
  },
  "language_info": {
   "codemirror_mode": {
    "name": "ipython",
    "version": 3
   },
   "file_extension": ".py",
   "mimetype": "text/x-python",
   "name": "python",
   "nbconvert_exporter": "python",
   "pygments_lexer": "ipython3",
   "version": "3.12.3"
  }
 },
 "nbformat": 4,
 "nbformat_minor": 5
}
