{
 "cells": [
  {
   "cell_type": "code",
   "execution_count": 1,
   "id": "00c2e08f-7f4d-4c06-995e-048781516f0f",
   "metadata": {},
   "outputs": [
    {
     "name": "stdout",
     "output_type": "stream",
     "text": [
      "Hello, what is your name?  rejina\n"
     ]
    },
    {
     "name": "stdout",
     "output_type": "stream",
     "text": [
      "Hello, rejina. Good to meet you!\n"
     ]
    }
   ],
   "source": [
    "#1 Program to greet the user\n",
    "name = input(\"Hello, what is your name? \")\n",
    "print(f\"Hello, {name}. how are you!\")\n"
   ]
  },
  {
   "cell_type": "code",
   "execution_count": 3,
   "id": "dbb3b1c4-9416-4b7d-b9e7-d734ef546757",
   "metadata": {},
   "outputs": [
    {
     "name": "stdout",
     "output_type": "stream",
     "text": [
      "ENTER THE TEMPERATURE INTO CELSIUS:  10\n"
     ]
    },
    {
     "name": "stdout",
     "output_type": "stream",
     "text": [
      "10.0C is equivalent to 50.0F.\n"
     ]
    }
   ],
   "source": [
    "#2 to convert Celsius to Fahrenheit\n",
    "celsius = float(input(\"ENTER THE TEMPERATURE INTO CELSIUS: \"))\n",
    "fahrenheit = (celsius * 9/5) + 32\n",
    "print(f\"{celsius}C is equivalent to {fahrenheit}F.\")\n"
   ]
  },
  {
   "cell_type": "code",
   "execution_count": 4,
   "id": "0725510d-2327-4634-98de-45e20dd4b3e0",
   "metadata": {},
   "outputs": [
    {
     "name": "stdout",
     "output_type": "stream",
     "text": [
      "How many students are there?  15\n",
      "how many groups are required ?  5\n"
     ]
    },
    {
     "name": "stdout",
     "output_type": "stream",
     "text": [
      "There will be 3 groups with 0 students left over.\n"
     ]
    }
   ],
   "source": [
    "#3 code to divide students into  diffrent lab groups\n",
    "std = int(input(\"How many students are there? \"))\n",
    "group = int(input(\"how many groups are required ? \"))\n",
    "\n",
    "groups = std // group\n",
    "leftover = std % group\n",
    "\n",
    "print(f\"There will be {groups} groups with {leftover} students left over.\")\n"
   ]
  },
  {
   "cell_type": "code",
   "execution_count": 7,
   "id": "314d56be-c419-48eb-bace-9edb793d6100",
   "metadata": {},
   "outputs": [
    {
     "name": "stdout",
     "output_type": "stream",
     "text": [
      "How many sweets need to be distributed?  500\n",
      "How many pupils are there?  100\n"
     ]
    },
    {
     "name": "stdout",
     "output_type": "stream",
     "text": [
      " pupil will get 5 sweets per person.\n",
      "There will be 0 sweets left over.\n"
     ]
    }
   ],
   "source": [
    "4# code to divide sweets among pupils\n",
    "sweets = int(input(\"How many sweets need to be distributed? \"))\n",
    "pupils = int(input(\"How many pupils are there? \"))\n",
    "\n",
    "sweetsper = sweets // pupils\n",
    "leftover = sweets % pupils\n",
    "\n",
    "print(f\" pupil will get {sweetsper} sweets per person.\")\n",
    "print(f\"There will be {leftover} sweets left over.\")\n"
   ]
  },
  {
   "cell_type": "code",
   "execution_count": null,
   "id": "56b500d9-4071-497d-8985-28c1b34d69b8",
   "metadata": {},
   "outputs": [],
   "source": []
  }
 ],
 "metadata": {
  "kernelspec": {
   "display_name": "Python 3 (ipykernel)",
   "language": "python",
   "name": "python3"
  },
  "language_info": {
   "codemirror_mode": {
    "name": "ipython",
    "version": 3
   },
   "file_extension": ".py",
   "mimetype": "text/x-python",
   "name": "python",
   "nbconvert_exporter": "python",
   "pygments_lexer": "ipython3",
   "version": "3.12.3"
  }
 },
 "nbformat": 4,
 "nbformat_minor": 5
}
