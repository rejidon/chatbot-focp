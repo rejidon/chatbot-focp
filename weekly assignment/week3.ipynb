{
 "cells": [
  {
   "cell_type": "code",
   "execution_count": 1,
   "id": "1a5ed160-20bd-49c8-a6c8-bd0400014ccf",
   "metadata": {},
   "outputs": [
    {
     "name": "stdin",
     "output_type": "stream",
     "text": [
      "Enter your name:  rejina\n"
     ]
    },
    {
     "name": "stdout",
     "output_type": "stream",
     "text": [
      "Hello, rejina!\n"
     ]
    }
   ],
   "source": [
    "# question 1\n",
    "name = input(\"Enter your name: \")\n",
    "if name == \"\":\n",
    "    print(\"Hello, Stranger!\")\n",
    "else:\n",
    "    print(f\"Hello, {name}!\")\n"
   ]
  },
  {
   "cell_type": "code",
   "execution_count": 2,
   "id": "3ff08729-af82-4878-80d1-143bbbcd63fc",
   "metadata": {},
   "outputs": [
    {
     "name": "stdin",
     "output_type": "stream",
     "text": [
      "Enter a new password:  rejina123\n",
      "Enter the password again:  rejina123\n"
     ]
    },
    {
     "name": "stdout",
     "output_type": "stream",
     "text": [
      "Password Set\n"
     ]
    }
   ],
   "source": [
    "# question 2\n",
    "password1 = input(\"Enter a new password: \")\n",
    "pass2 = input(\"please enter your password again\")\n",
    "if password1== pass2:\n",
    "    print (\"your password had been set\")\n",
    "else:\n",
    "    print(\"error:your password is wrong try again\")"
   ]
  },
  {
   "cell_type": "code",
   "execution_count": 2,
   "id": "84345fd4-92f6-4d23-80ce-e230eb6fa01e",
   "metadata": {},
   "outputs": [
    {
     "name": "stdin",
     "output_type": "stream",
     "text": [
      "Enter a new password:  reji123\n",
      "Enter your password again:  reji123\n"
     ]
    },
    {
     "name": "stdout",
     "output_type": "stream",
     "text": [
      "Error: Password must be between 8 and 12 characters long.\n"
     ]
    }
   ],
   "source": [
    "#question3\n",
    "pass1 = input(\"Enter a new password: \")\n",
    "pass2 = input(\"Enter your password again: \")\n",
    "\n",
    "if len(pass1) < 8 or len(pass1) > 12:\n",
    "    print(\"Error: Password must be between 8 and 12 characters long.\")\n",
    "else:\n",
    "    pass2 = input(\"Enter the password again: \")\n",
    "    if pass1 == pass2:\n",
    "        print(\"your password has been set\")\n",
    "    else:\n",
    "        print(\" your Passwords do not match ! try again\")\n"
   ]
  },
  {
   "cell_type": "code",
   "execution_count": 11,
   "id": "333caca4-fc72-4681-96a8-df592bf719e0",
   "metadata": {},
   "outputs": [
    {
     "name": "stdin",
     "output_type": "stream",
     "text": [
      "Enter a new password:  rejina\n",
      "Enter the password again:  rejina\n"
     ]
    },
    {
     "name": "stdout",
     "output_type": "stream",
     "text": [
      "Error: Password must be between 8 and 12 characters long.\n"
     ]
    }
   ],
   "source": [
    "# question 4\n",
    "pass1 = input(\"Enter a new password: \")\n",
    "bad_password = ['password', 'letmein', 'sesame', 'hello', 'justinbieber']\n",
    "pass2 = input(\"Enter the password again: \")\n",
    "\n",
    "if pass1 in bad_password:\n",
    "    print(\"Error:this is too common. Please choose a different password.\")\n",
    "elif len(pass1) < 8 or len(pass1) > 12:\n",
    "    print(\"Error: Password must be between 8 and 12 characters long.\")\n",
    "else:\n",
    "  \n",
    "    if pass1 == pass2:\n",
    "        print(\"Password Set\")\n",
    "    else:\n",
    "        print(\"Error: your password donot match try again next time\")\n"
   ]
  },
  {
   "cell_type": "code",
   "execution_count": 19,
   "id": "9be33736-005f-4446-8903-d78a44b75c5e",
   "metadata": {},
   "outputs": [
    {
     "name": "stdin",
     "output_type": "stream",
     "text": [
      "Enter a password (8-12 characters):  fgfdsddgsjddg\n"
     ]
    },
    {
     "name": "stdout",
     "output_type": "stream",
     "text": [
      "Password must be between 8 and 12 characters long.\n"
     ]
    },
    {
     "name": "stdin",
     "output_type": "stream",
     "text": [
      "Enter a password (8-12 characters):  sdvgsgdfgs\n"
     ]
    },
    {
     "name": "stdout",
     "output_type": "stream",
     "text": [
      "Password accepted.\n"
     ]
    }
   ],
   "source": [
    "#question no5\n",
    "BAD_PASSWORDS = ['password', 'letmein', 'sesame', 'hello', 'justinbieber']\n",
    "\n",
    "def get_password():\n",
    "    while True:\n",
    "        password = input(\"Enter a password (8-12 characters): \")\n",
    "        if 8 <= len(password) <= 12:\n",
    "            if password not in BAD_PASSWORDS:\n",
    "                print(\"Password accepted.\")\n",
    "                return password\n",
    "            else:\n",
    "                print(\"Password is too common. Choose a different password.\")\n",
    "        else:\n",
    "            print(\"Password must be between 8 and 12 characters long.\")\n",
    "\n",
    "password = get_password()"
   ]
  },
  {
   "cell_type": "code",
   "execution_count": 20,
   "id": "4d192f2c-5a62-4bf1-b644-a43e97edde2e",
   "metadata": {},
   "outputs": [
    {
     "name": "stdout",
     "output_type": "stream",
     "text": [
      "0 x 7 = 0\n",
      "1 x 7 = 7\n",
      "2 x 7 = 14\n",
      "3 x 7 = 21\n",
      "4 x 7 = 28\n",
      "5 x 7 = 35\n",
      "6 x 7 = 42\n",
      "7 x 7 = 49\n",
      "8 x 7 = 56\n",
      "9 x 7 = 63\n",
      "10 x 7 = 70\n",
      "11 x 7 = 77\n",
      "12 x 7 = 84\n"
     ]
    }
   ],
   "source": [
    "#question6\n",
    "def seven_timestable():\n",
    "    for i in range(13):\n",
    "        print(f\"{i} x 7 = {i * 7}\")\n",
    "\n",
    "seven_timestable()"
   ]
  },
  {
   "cell_type": "code",
   "execution_count": 29,
   "id": "8f98385e-71a9-46cb-8e4a-ac085516e633",
   "metadata": {},
   "outputs": [
    {
     "name": "stdin",
     "output_type": "stream",
     "text": [
      "Enter a number between 0 to 12 for the times table:  5\n"
     ]
    },
    {
     "name": "stdout",
     "output_type": "stream",
     "text": [
      "0 x 5 = 0\n",
      "1 x 5 = 5\n",
      "2 x 5 = 10\n",
      "3 x 5 = 15\n",
      "4 x 5 = 20\n",
      "5 x 5 = 25\n",
      "6 x 5 = 30\n",
      "7 x 5 = 35\n",
      "8 x 5 = 40\n",
      "9 x 5 = 45\n",
      "10 x 5 = 50\n",
      "11 x 5 = 55\n",
      "12 x 5 = 60\n"
     ]
    }
   ],
   "source": [
    "# question no 7 custom time table\n",
    "def custom_timestable():\n",
    "    number = int(input(\"Enter a number between 0 to 12 for the times table: \"))\n",
    "    if 0 <= number <= 12:\n",
    "        for i in range(13):\n",
    "            print(f\"{i} x {number} = {i * number}\")\n",
    "    else:\n",
    "        print(\"Number must be between 0 and 12.\")\n",
    "custom_timestable()"
   ]
  },
  {
   "cell_type": "code",
   "execution_count": 28,
   "id": "cf2e95c1-5b4c-4be8-8632-24a82aff58d2",
   "metadata": {},
   "outputs": [
    {
     "name": "stdin",
     "output_type": "stream",
     "text": [
      "Enter a times table number (-12 to 12):  -11\n"
     ]
    },
    {
     "name": "stdout",
     "output_type": "stream",
     "text": [
      "12 x 11 = 132\n",
      "11 x 11 = 121\n",
      "10 x 11 = 110\n",
      "9 x 11 = 99\n",
      "8 x 11 = 88\n",
      "7 x 11 = 77\n",
      "6 x 11 = 66\n",
      "5 x 11 = 55\n",
      "4 x 11 = 44\n",
      "3 x 11 = 33\n",
      "2 x 11 = 22\n",
      "1 x 11 = 11\n",
      "0 x 11 = 0\n"
     ]
    }
   ],
   "source": [
    "#question no 8 backwrard time table\n",
    "while True:\n",
    "    try:\n",
    "        table = int(input(\"Enter a times table number (-12 to 12): \"))\n",
    "        if -12 <= table <= 12:\n",
    "            break \n",
    "        else:\n",
    "            print(\"Number must be between -12 and 12.\")\n",
    "    except ValueError:\n",
    "        print(\"error: Please enter a valid number.\")\n",
    "\n",
    "if table >= 0:\n",
    "    for i in range(13):\n",
    "        result = i * table\n",
    "        print(f\"{i} x {abs(table)} = {result}\")\n",
    "else:\n",
    "    table = abs(table) \n",
    "    for i in range(12, -1, -1): \n",
    "     result = i * table\n",
    "     print(f\"{i} x {table} = {result}\")"
   ]
  }
 ],
 "metadata": {
  "kernelspec": {
   "display_name": "Python 3 (ipykernel)",
   "language": "python",
   "name": "python3"
  },
  "language_info": {
   "codemirror_mode": {
    "name": "ipython",
    "version": 3
   },
   "file_extension": ".py",
   "mimetype": "text/x-python",
   "name": "python",
   "nbconvert_exporter": "python",
   "pygments_lexer": "ipython3",
   "version": "3.12.3"
  }
 },
 "nbformat": 4,
 "nbformat_minor": 5
}
