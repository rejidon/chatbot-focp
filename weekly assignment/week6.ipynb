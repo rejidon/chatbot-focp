{
 "cells": [
  {
   "cell_type": "code",
   "execution_count": 10,
   "id": "7500abb9-9ac3-4dae-8435-8aa508337650",
   "metadata": {},
   "outputs": [
    {
     "name": "stdout",
     "output_type": "stream",
     "text": [
      "1010\n",
      "11111111\n"
     ]
    }
   ],
   "source": [
    "#question no 1\n",
    "def to_binary(num):\n",
    "    if num < 0:\n",
    "        raise ValueError(\"Number must be positive.\")\n",
    "    return bin(num)[2:]\n",
    "\n",
    "print(to_binary(10))  \n",
    "print(to_binary(255)) "
   ]
  },
  {
   "cell_type": "code",
   "execution_count": 13,
   "id": "4a039832-d98b-4c8f-873d-e36697596246",
   "metadata": {},
   "outputs": [
    {
     "name": "stdout",
     "output_type": "stream",
     "text": [
      "[1, 2, 4, 7, 14, 28]\n",
      "[1, 13]\n"
     ]
    }
   ],
   "source": [
    "#question no 2\n",
    "def find_factors(num):\n",
    "    if num <= 0:\n",
    "        raise ValueError(\"Number needs to be positive.\")\n",
    "    return [i for i in range(1, num + 1) if num % i == 0]\n",
    "\n",
    "print(find_factors(28)) \n",
    "print(find_factors(13))  "
   ]
  },
  {
   "cell_type": "code",
   "execution_count": 23,
   "id": "aa1ec44b-4412-489c-9fd3-0aae46cbac19",
   "metadata": {},
   "outputs": [
    {
     "name": "stdout",
     "output_type": "stream",
     "text": [
      "True\n",
      "False\n"
     ]
    }
   ],
   "source": [
    "#question no 3\n",
    "def is_prime(n):\n",
    "    if n <= 1:\n",
    "        return False\n",
    "    \n",
    "    for i in range(2, int(n**0.5) + 1):\n",
    "        if n % i == 0:\n",
    "            return False\n",
    "    \n",
    "    return True\n",
    "print(is_prime(29)) \n",
    "print(is_prime(15))  \n",
    "\n",
    "  "
   ]
  },
  {
   "cell_type": "code",
   "execution_count": 25,
   "id": "66136ac4-09f0-4848-b0df-4d86d38a1363",
   "metadata": {},
   "outputs": [
    {
     "name": "stdout",
     "output_type": "stream",
     "text": [
      "dlrowolleh\n",
      "uoyeraohw\n"
     ]
    }
   ],
   "source": [
    "#question no 4\n",
    "def encrypt_message(message):\n",
    "    return message.replace(\" \", \"\")[::-1]\n",
    "\n",
    "print(encrypt_message(\"hello world\")) \n",
    "print(encrypt_message(\"who are you\"))"
   ]
  },
  {
   "cell_type": "code",
   "execution_count": 27,
   "id": "1d13bd5a-ccc5-41b6-a634-b8f6f5c0e1ab",
   "metadata": {},
   "outputs": [
    {
     "name": "stdout",
     "output_type": "stream",
     "text": [
      "Encrypted Message: zkmybsbasvwegeyjtnznehjdajsod ixrskcqqgmlhedadrebmkccectwkbsbuqxxe, Interval: 6\n"
     ]
    }
   ],
   "source": [
    "#question no 5\n",
    "import random\n",
    "import string\n",
    "\n",
    "def encrypt_with_random_intervals(message):\n",
    "    interval = random.randint(2, 20)\n",
    "    encrypted = []\n",
    "    message_index = 0\n",
    "\n",
    "    while message_index < len(message):\n",
    "        for _ in range(interval - 1):\n",
    "            encrypted.append(random.choice(string.ascii_lowercase))\n",
    "        encrypted.append(message[message_index])\n",
    "        message_index += 1\n",
    "\n",
    "    return ''.join(encrypted), interval\n",
    "encrypted_message, interval = encrypt_with_random_intervals(\"send cheese\")\n",
    "print(f\"Encrypted Message: {encrypted_message}, Interval: {interval}\")\n"
   ]
  },
  {
   "cell_type": "code",
   "execution_count": 28,
   "id": "183c6753-62c9-4b02-9647-e4f04455ee72",
   "metadata": {},
   "outputs": [
    {
     "name": "stdout",
     "output_type": "stream",
     "text": [
      "send cheese\n"
     ]
    }
   ],
   "source": [
    "# question 6\n",
    "def decrypt_with_random_intervals(encrypted_message, interval):\n",
    "    return encrypted_message[interval - 1::interval]\n",
    "\n",
    "print(decrypt_with_random_intervals(encrypted_message, interval)) "
   ]
  },
  {
   "cell_type": "code",
   "execution_count": null,
   "id": "b1f4606a-b461-4a93-9958-f6509725b496",
   "metadata": {},
   "outputs": [],
   "source": []
  }
 ],
 "metadata": {
  "kernelspec": {
   "display_name": "Python 3 (ipykernel)",
   "language": "python",
   "name": "python3"
  },
  "language_info": {
   "codemirror_mode": {
    "name": "ipython",
    "version": 3
   },
   "file_extension": ".py",
   "mimetype": "text/x-python",
   "name": "python",
   "nbconvert_exporter": "python",
   "pygments_lexer": "ipython3",
   "version": "3.12.3"
  }
 },
 "nbformat": 4,
 "nbformat_minor": 5
}
